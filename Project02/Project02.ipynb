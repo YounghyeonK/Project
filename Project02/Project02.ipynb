{
  "nbformat": 4,
  "nbformat_minor": 0,
  "metadata": {
    "colab": {
      "provenance": [],
      "authorship_tag": "ABX9TyPsbsQcaRhipu1LcZQL8fO8",
      "include_colab_link": true
    },
    "kernelspec": {
      "name": "python3",
      "display_name": "Python 3"
    },
    "language_info": {
      "name": "python"
    }
  },
  "cells": [
    {
      "cell_type": "markdown",
      "metadata": {
        "id": "view-in-github",
        "colab_type": "text"
      },
      "source": [
        "<a href=\"https://colab.research.google.com/github/YounghyeonK/Project/blob/main/Project02/Project02.ipynb\" target=\"_parent\"><img src=\"https://colab.research.google.com/assets/colab-badge.svg\" alt=\"Open In Colab\"/></a>"
      ]
    },
    {
      "cell_type": "markdown",
      "source": [
        "**Kiosk 클래스 생성하기**\n",
        "\n",
        "Kiosk 클래스를 만들면 호출되는 생성자 안에 메뉴와 가격을 속서으로 추가한 후, 클래스가 잘 만들어졌는지 속성을 출력하여 확인"
      ],
      "metadata": {
        "id": "Mqda9pHLNruI"
      }
    },
    {
      "cell_type": "code",
      "execution_count": 21,
      "metadata": {
        "id": "Ewa1DXdI-n1G"
      },
      "outputs": [],
      "source": [
        "class Kiosk:\n",
        "  def __init__(self):\n",
        "    self.menu = ['americano', 'latte', 'mocha', 'yuza_tea', 'green_tea', 'choco_latte']\n",
        "    self.price = [2000, 3000, 3000, 2500, 2500, 3000]"
      ]
    },
    {
      "cell_type": "code",
      "source": [
        "a = Kiosk() # 객체 생성\n",
        "a.menu # 객체 속성을 출력"
      ],
      "metadata": {
        "colab": {
          "base_uri": "https://localhost:8080/"
        },
        "id": "SATxx601ORmt",
        "outputId": "21c26373-2a83-4697-865c-2e69617e9fed"
      },
      "execution_count": 22,
      "outputs": [
        {
          "output_type": "execute_result",
          "data": {
            "text/plain": [
              "['americano', 'latte', 'mocha', 'yuza_tea', 'green_tea', 'choco_latte']"
            ]
          },
          "metadata": {},
          "execution_count": 22
        }
      ]
    },
    {
      "cell_type": "markdown",
      "source": [
        "메뉴판 출력하기\n",
        "\n",
        "self.menu에 있는 갯수만큼 메뉴를 출력하는 메서드를 정의한 후, 객체 생성하여 메뉴를 출력"
      ],
      "metadata": {
        "id": "K7BVnnOLOjY3"
      }
    },
    {
      "cell_type": "code",
      "source": [
        "def menu_print(self):\n",
        "  for i in range(len(self.menu)): # 메뉴의 개수만큼 반복\n",
        "    print(i+1, self.menu[i], ' : ', self.price[i])  # 메뉴와 가격을 출력"
      ],
      "metadata": {
        "id": "xpcvet01OiUl"
      },
      "execution_count": 23,
      "outputs": []
    },
    {
      "cell_type": "code",
      "source": [
        "class Kiosk:\n",
        "  def __init__(self):\n",
        "    self.menu = ['americano', 'latte', 'mocha', 'yuza_tea', 'green_tea', 'choco_latte']\n",
        "    self.price = [2000, 3000, 3000, 2500, 2500, 3000]\n",
        "\n",
        "  def menu_print(self):\n",
        "    for i in range(len(self.menu)): # 메뉴의 개수만큼 반복\n",
        "      print(i+1, self.menu[i], ' : ', self.price[i], '원')  # 메뉴와 가격을 출력\n"
      ],
      "metadata": {
        "id": "sZQgXsP_PTe3"
      },
      "execution_count": 24,
      "outputs": []
    },
    {
      "cell_type": "code",
      "source": [
        "a = Kiosk()\n",
        "a.menu_print()"
      ],
      "metadata": {
        "colab": {
          "base_uri": "https://localhost:8080/"
        },
        "id": "Q2gqHF3cQWkM",
        "outputId": "f9625db0-0b1a-416f-9be5-5d8185c1a8c3"
      },
      "execution_count": 25,
      "outputs": [
        {
          "output_type": "stream",
          "name": "stdout",
          "text": [
            "1 americano  :  2000 원\n",
            "2 latte  :  3000 원\n",
            "3 mocha  :  3000 원\n",
            "4 yuza_tea  :  2500 원\n",
            "5 green_tea  :  2500 원\n",
            "6 choco_latte  :  3000 원\n"
          ]
        }
      ]
    },
    {
      "cell_type": "markdown",
      "source": [
        "주문 메서드\n",
        "\n",
        "주문할 음료의 번호를 입력하면 주문 확인을 위해서 음료 이름과 가격을 출력"
      ],
      "metadata": {
        "id": "8UfCrozbSCkB"
      }
    },
    {
      "cell_type": "code",
      "source": [
        "def menu_select(self):\n",
        "  n = int(input('음료의 번호를 입력하세요 : ')) # 음료 번호 입력\n",
        "  self.price_sum = self.price[n-1] # 선택 음료의 가격\n",
        "  print(self.menu[n-1], ' : ', self.price[n-1], '원') # 음료의 이름과 가격을 출력"
      ],
      "metadata": {
        "id": "jyaBwlY1SMFF"
      },
      "execution_count": null,
      "outputs": []
    },
    {
      "cell_type": "markdown",
      "source": [
        "주문 메서드에 음료의 번호를 잘못 입력할 경우를 생각하여 예외 처리 추가"
      ],
      "metadata": {
        "id": "xl6jtrh3TB-M"
      }
    },
    {
      "cell_type": "code",
      "source": [
        "def.menue_select(self):\n",
        "  n = 0\n",
        "  while n < 1 or len(menu) < n:\n",
        "    n = int(input('음료 번호를 입력하세요 : ')) # 음료 번호 입력\n",
        "\n",
        "    # 메뉴판에 있는 음료 번호일 때\n",
        "    if 1 <= n & n <= len(mene):\n",
        "      self.price_sum = self.price[n-1] # 선택 음료의 가격\n",
        "      print(self.menu[n-1], ' : ', self.price_sum, '원')\n",
        "\n",
        "    # 메뉴판에 없는 번호일 때\n",
        "    else:\n",
        "      print('없는 메뉴입니다. 다시 주문해 주세요.')"
      ],
      "metadata": {
        "id": "dbYVi5gkTI19"
      },
      "execution_count": null,
      "outputs": []
    },
    {
      "cell_type": "code",
      "source": [
        "class Kiosk:\n",
        "  def __init__(self):\n",
        "    self.menu = ['americano', 'latte', 'mocha', 'yuza_tea', 'green_tea', 'choco_latte']\n",
        "    self.price = [2000, 3000, 3000, 2500, 2500, 3000]\n",
        "\n",
        "  def menu_print(self):\n",
        "    for i in range(len(self.menu)): # 메뉴의 개수만큼 반복\n",
        "      print(i+1, self.menu[i], ' : ', self.price[i], '원')  # 메뉴와 가격을 출력\n",
        "\n",
        "  def menu_select(self):\n",
        "    n = 0\n",
        "    while n < 1 or len(self.menu) < n:\n",
        "      n = int(input('음료 번호를 입력하세요 : ')) # 음료 번호 입력\n",
        "\n",
        "    # 메뉴판에 있는 음료 번호일 때\n",
        "      if 1 <= n & n <= len(self.menu):\n",
        "        self.price_sum = self.price[n-1] # 선택 음료의 가격\n",
        "        print(self.menu[n-1], ' : ', self.price_sum, '원')\n",
        "\n",
        "    # 메뉴판에 없는 번호일 때\n",
        "      else:\n",
        "        print('없는 메뉴입니다. 다시 주문해 주세요.')\n",
        "\n",
        "      # 음료의 온도 물어보기\n",
        "      t = 0 # 기본값 넣어주기\n",
        "      while t != 1 and t != 2: # 1이나 2를 입력할 때까지 물어보기\n",
        "        t = int(input('HOT 음료는 1을, ICE 음료는 2를 입력하세요 : '))\n",
        "\n",
        "        if t == 1:\n",
        "          self.temp = \"HOT\"\n",
        "        elif t == 2:\n",
        "          self.temp = \"ICE\"\n",
        "        else:\n",
        "          print('1과 2 중 하나를 입력하세요. \\n')\n",
        "\n",
        "      print('주문 음료', self.temp, self.menu[n-1], ' : ', self.price_sum, '원') # 온도 속성을 추가한 주문 결과\n"
      ],
      "metadata": {
        "id": "8EZ_Z8s9UUV1"
      },
      "execution_count": 34,
      "outputs": []
    },
    {
      "cell_type": "code",
      "source": [
        "a = Kiosk()\n",
        "a.menu_print()\n",
        "a.menu_select()"
      ],
      "metadata": {
        "colab": {
          "base_uri": "https://localhost:8080/"
        },
        "id": "6LmVzSwhXKS8",
        "outputId": "115a16bf-4f8b-406f-e04b-88ccec6f1f1a"
      },
      "execution_count": 35,
      "outputs": [
        {
          "output_type": "stream",
          "name": "stdout",
          "text": [
            "1 americano  :  2000 원\n",
            "2 latte  :  3000 원\n",
            "3 mocha  :  3000 원\n",
            "4 yuza_tea  :  2500 원\n",
            "5 green_tea  :  2500 원\n",
            "6 choco_latte  :  3000 원\n",
            "음료 번호를 입력하세요 : 1\n",
            "americano  :  2000 원\n",
            "HOT 음료는 1을, ICE 음료는 2를 입력하세요 : 2\n",
            "주문 음료 ICE americano  :  2000 원\n"
          ]
        }
      ]
    },
    {
      "cell_type": "markdown",
      "source": [
        "추가 주문\n",
        "\n",
        "추가 주문을 대비하여, 손님에게 추가 주문을 한 것인지 물어보고, 추가 주문을 하지 않고 주문 금액을 지불하려면 0을 눌러서 주문이 완료됐다고 알려줍시다.\n",
        "\n",
        "주문표에 모든 메뉴를 출력해야 하므로 주문 리스트와 가격 리스트도 추가합니다."
      ],
      "metadata": {
        "id": "KNalvBUvXSr-"
      }
    },
    {
      "cell_type": "code",
      "source": [
        "class Kiosk:\n",
        "  def __init__(self):\n",
        "    self.menu = ['americano', 'latte', 'mocha', 'yuza_tea', 'green_tea', 'choco_latte']\n",
        "    self.price = [2000, 3000, 3000, 2500, 2500, 3000]\n",
        "\n",
        "  def menu_print(self):\n",
        "    for i in range(len(self.menu)): # 메뉴의 개수만큼 반복\n",
        "      print(i+1, self.menu[i], ' : ', self.price[i], '원')  # 메뉴와 가격을 출력\n",
        "\n",
        "  def menu_select(self):\n",
        "    self.order_menu = []\n",
        "    self.order_price = []\n",
        "\n",
        "    n = 0\n",
        "    while n < 1 or len(self.menu) < n:\n",
        "      n = int(input('음료 번호를 입력하세요 : ')) # 음료 번호 입력\n",
        "\n",
        "    # 메뉴판에 있는 음료 번호일 때\n",
        "      if 1 <= n & n <= len(self.menu):\n",
        "        self.order_price.append(self.price[n-1]) # 가격 리스트에 추가\n",
        "        self.price_sum = self.price[n-1] # 합계 금액\n",
        "        print(self.menu[n-1], ' : ', self.price_sum, '원')\n",
        "\n",
        "    # 메뉴판에 없는 번호일 때\n",
        "      else:\n",
        "        print('없는 메뉴입니다. 다시 주문해 주세요.')\n",
        "\n",
        "    # 음료의 온도 물어보기\n",
        "    t = 0 # 기본값 넣어주기\n",
        "    while t != 1 and t != 2: # 1이나 2를 입력할 때까지 물어보기\n",
        "      t = int(input('HOT 음료는 1을, ICE 음료는 2를 입력하세요 : '))\n",
        "\n",
        "      if t == 1:\n",
        "        self.temp = \"HOT\"\n",
        "      elif t == 2:\n",
        "        self.temp = \"ICE\"\n",
        "      else:\n",
        "          print('1과 2 중 하나를 입력하세요. \\n')\n",
        "\n",
        "      self.order_menu.append(self.temp + ' ' + self.menu[n-1]) # 주문 리스트에 추가\n",
        "      print('주문 음료', self.temp, self.menu[n-1], ' : ', self.price_sum, '원') # 온도 속성을 추가한 주문 결과\n",
        "\n",
        "      # 추가 주문 또는 지불\n",
        "      while n != 0: # 지불을 선택하기 전까지 반복\n",
        "        print() # 줄 바꿈\n",
        "        n = int(input('추가 주문은 음료 번호를, 지불은 0을 누르세요 : ')) #추가 주문 또는 지불\n",
        "\n",
        "        if n > 0 and n < len(self.menu) + 1:\n",
        "          t = 0\n",
        "          while t != 1 and t != 2:\n",
        "            t = int(input('HOT 음료는 1을, ICE음료는 2를 입력하세요 : '))\n",
        "            if t == 1:\n",
        "              self.temp = 'HOT'\n",
        "            elif t == 2:\n",
        "              self.temp = 'ICE'\n",
        "            else:\n",
        "              print('1과 2 중 하나를 입력하세요.\\n')\n",
        "\n",
        "          self.price_sum += self.price[n-1]\n",
        "          self.order_menu.append(self.temp + ' ' + self.menu[n-1])\n",
        "          self.order_price.append(self.price[n-1])\n",
        "          print('추가 주문 음료', self.temp, self.menu[n-1], ':', self.price[n-1], '원\\n', '합계 : ', self.price_sum, '원')\n",
        "        else:\n",
        "          if n == 0 : # 지불을 입력하면\n",
        "            print('주문이 완료되었습니다.')\n",
        "            print(self.order_menu, self.order_price) # 확인을 위한 리스트를 출력\n",
        "\n",
        "          else: # 없는 번호를 입력할 때\n",
        "            print('없는 메뉴입니다. 다시 주문해 주세요.')\n",
        "  def pay(self):\n",
        "\n",
        "    method = int(input(f'지불할 금액은 {self.price_sum}입니다. \\n현금은 1, 카드는 2를 입력해주세요 : \\n>>>'))\n",
        "    if method == 1:\n",
        "            print('직원을 호출하겠습니다.')\n",
        "    elif method == 2:\n",
        "            print('IC칩 방향에 맞게 카드를 꽂아주세요.')\n",
        "    else:\n",
        "            print('다시 결제를 시도해 주세요.')"
      ],
      "metadata": {
        "id": "a0PVPfFLXMpR"
      },
      "execution_count": 63,
      "outputs": []
    },
    {
      "cell_type": "code",
      "source": [
        "a = Kiosk()\n",
        "a.menu_print()\n",
        "a.menu_select()"
      ],
      "metadata": {
        "colab": {
          "base_uri": "https://localhost:8080/"
        },
        "id": "44gRAYaJ3A_E",
        "outputId": "d69cc64d-f513-4f78-d404-d230c456b791"
      },
      "execution_count": 64,
      "outputs": [
        {
          "output_type": "stream",
          "name": "stdout",
          "text": [
            "1 americano  :  2000 원\n",
            "2 latte  :  3000 원\n",
            "3 mocha  :  3000 원\n",
            "4 yuza_tea  :  2500 원\n",
            "5 green_tea  :  2500 원\n",
            "6 choco_latte  :  3000 원\n",
            "음료 번호를 입력하세요 : 1\n",
            "americano  :  2000 원\n",
            "HOT 음료는 1을, ICE 음료는 2를 입력하세요 : 2\n",
            "주문 음료 ICE americano  :  2000 원\n",
            "\n",
            "추가 주문은 음료 번호를, 지불은 0을 누르세요 : 3\n",
            "HOT 음료는 1을, ICE음료는 2를 입력하세요 : 2\n",
            "추가 주문 음료 ICE mocha : 3000 원\n",
            " 합계 :  5000 원\n",
            "\n",
            "추가 주문은 음료 번호를, 지불은 0을 누르세요 : 0\n",
            "주문이 완료되었습니다.\n",
            "['ICE americano', 'ICE mocha'] [2000, 3000]\n"
          ]
        }
      ]
    }
  ]
}