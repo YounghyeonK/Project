{
  "nbformat": 4,
  "nbformat_minor": 0,
  "metadata": {
    "colab": {
      "provenance": [],
      "authorship_tag": "ABX9TyN+okotvJQ1ZNxoM0NR01Oa",
      "include_colab_link": true
    },
    "kernelspec": {
      "name": "python3",
      "display_name": "Python 3"
    },
    "language_info": {
      "name": "python"
    }
  },
  "cells": [
    {
      "cell_type": "markdown",
      "metadata": {
        "id": "view-in-github",
        "colab_type": "text"
      },
      "source": [
        "<a href=\"https://colab.research.google.com/github/YounghyeonK/Project/blob/main/Project02/Project02.ipynb\" target=\"_parent\"><img src=\"https://colab.research.google.com/assets/colab-badge.svg\" alt=\"Open In Colab\"/></a>"
      ]
    },
    {
      "cell_type": "markdown",
      "source": [
        "# ***사각형 넓이 구하기***\n",
        "\n",
        "\n",
        "\n",
        "*   직사각형: 가로 * 세로\n",
        "*   평행사변형: 밑변 * 높이\n",
        "*(등변)사다리꼴: (밑변 + 윗변) * 높이 * 1/2\n",
        "\n",
        "\n",
        "\n"
      ],
      "metadata": {
        "id": "6ERZrI_pBLcP"
      }
    },
    {
      "cell_type": "markdown",
      "source": [
        "## **사각형 클래스 만들기**\n",
        "\n",
        "클래스로 객체를 만들 때 자동으로 호출되는 생성자 안에는 어떤 사각형을 만들 것인지 물어보는 input()함수를 넣는다.\n",
        "입력했을 경우, 관련 메서드를 알려주도록 코드를 넣는다."
      ],
      "metadata": {
        "id": "_nO_y2d8BoUa"
      }
    },
    {
      "cell_type": "code",
      "source": [
        "class Square:\n",
        "  def __init__(self):\n",
        "    self.square = int(input('넓이를 구하고 싶은 사각형의 숫자를 써주세요.\\n 1.직사각형 2.평행사변형 3. 사다리꼴 \\n >>>')) # 입력값은 int로 묶는다.\n",
        "\n",
        "    if self.square == 1:\n",
        "      print('직사각형 함수는 rect()입니다.') # Square 클래스에 rect() 메서드를 추가\n",
        "\n",
        "    elif self.square == 2:\n",
        "      print('평행사변형 함수는 par()입니다.') # Square 클래스에 par() 메서드를 추가\n",
        "\n",
        "    elif self.square == 3:\n",
        "      print('사다리꼴 함수는 trape()입니다.') # Square 클래스에 trape() 메서드를 추가\n",
        "\n",
        "    else:\n",
        "      print('1, 2, 3 중에서 다시 입력해주세요.')\n",
        ""
      ],
      "metadata": {
        "id": "T8wBm0bEBIXA"
      },
      "execution_count": null,
      "outputs": []
    },
    {
      "cell_type": "markdown",
      "source": [
        "## **split()**\n",
        "\n",
        "input으로 입력받아 split() 함수로 쪼개면, 두 개의 변수에 각각 저장하는 것이 가능하다."
      ],
      "metadata": {
        "id": "-KzAimqnEq5K"
      }
    },
    {
      "cell_type": "code",
      "source": [
        "a, b, c = '모.두.연'.split('.') # 쪼개는 기준으로 '.'를 넣어줬다.\n",
        "print(b)"
      ],
      "metadata": {
        "colab": {
          "base_uri": "https://localhost:8080/"
        },
        "id": "vI1dvdidFEN0",
        "outputId": "d5c9e064-e1dd-4180-acb6-eb89b8964554"
      },
      "execution_count": 78,
      "outputs": [
        {
          "output_type": "stream",
          "name": "stdout",
          "text": [
            "두\n"
          ]
        }
      ]
    },
    {
      "cell_type": "code",
      "source": [
        "가로, 세로 = input('가로, 세로를 입력하세요. 예시 : 가로,세로').split(',')\n",
        "print(가로, 세로)"
      ],
      "metadata": {
        "colab": {
          "base_uri": "https://localhost:8080/"
        },
        "id": "exCRtFyqEpnW",
        "outputId": "2ba59d25-5d99-4ae2-8b14-4033a9d1cbde"
      },
      "execution_count": 81,
      "outputs": [
        {
          "output_type": "stream",
          "name": "stdout",
          "text": [
            "가로, 세로를 입력하세요. 예시 : 가로,세로3,4\n",
            "3 4\n"
          ]
        }
      ]
    },
    {
      "cell_type": "code",
      "source": [
        "type(가로) # type 함수로 확인해 봤을 때, input으로 입력받은 값은 str라는 것을 알 수 있다."
      ],
      "metadata": {
        "colab": {
          "base_uri": "https://localhost:8080/"
        },
        "id": "M6x47nmHFz2b",
        "outputId": "86b8a6cd-55ce-401f-ac18-b916f9af6b87"
      },
      "execution_count": 82,
      "outputs": [
        {
          "output_type": "execute_result",
          "data": {
            "text/plain": [
              "str"
            ]
          },
          "metadata": {},
          "execution_count": 82
        }
      ]
    },
    {
      "cell_type": "markdown",
      "source": [
        "## **map()**\n",
        "\n",
        "map(function, iterable):\n",
        "함수의 기능을 iterable에 적용시켜준다.\n",
        "\n",
        "**split() 함수로 쪼갠 객체들은 자동으로 리스트가 되기 때문에 이터러블이다.**"
      ],
      "metadata": {
        "id": "FWvQWiBOGKCC"
      }
    },
    {
      "cell_type": "code",
      "source": [
        "a = '모.두.연'.split('.')\n",
        "print(a)"
      ],
      "metadata": {
        "colab": {
          "base_uri": "https://localhost:8080/"
        },
        "id": "dke21B8LGJoP",
        "outputId": "9722b115-476d-4473-8a2a-65ce07da169b"
      },
      "execution_count": 83,
      "outputs": [
        {
          "output_type": "stream",
          "name": "stdout",
          "text": [
            "['모', '두', '연']\n"
          ]
        }
      ]
    },
    {
      "cell_type": "code",
      "source": [
        "def rect(self): # 직사각형 넓이를 구하는 메서드\n",
        "  width, vertical = map(int, input('가로, 세로를 입력하세요. 예시 : 가로,세로\\n >>>').split(',')) # 가로, 세로를 입력받는 코드\n",
        "  area = width * vertical # 넓이를 구하는 부분\n",
        "  result = '직사각형의 넓이는 : ' + str(area)\n",
        "  return result"
      ],
      "metadata": {
        "id": "HOLtAfN8HAQE"
      },
      "execution_count": null,
      "outputs": []
    },
    {
      "cell_type": "markdown",
      "source": [
        "## **잘 되는지 출력해보자**"
      ],
      "metadata": {
        "id": "pElSNVzkIba7"
      }
    },
    {
      "cell_type": "code",
      "source": [
        "class Square:\n",
        "  def __init__(self):\n",
        "    self.square = int(input('넓이를 구하고 싶은 사각형의 숫자를 써주세요.\\n 1.직사각형 2.평행사변형 3. 사다리꼴 \\n >>>')) # 입력값은 int로 묶는다.\n",
        "\n",
        "    if self.square == 1:\n",
        "      print('직사각형 함수는 rect()입니다.') # Square 클래스에 rect() 메서드를 추가\n",
        "\n",
        "    elif self.square == 2:\n",
        "      print('평행사변형 함수는 par()입니다.') # Square 클래스에 par() 메서드를 추가\n",
        "\n",
        "    elif self.square == 3:\n",
        "      print('사다리꼴 함수는 trape()입니다.') # Square 클래스에 trape() 메서드를 추가\n",
        "\n",
        "    else:\n",
        "      print('1, 2, 3 중에서 다시 입력해주세요.')\n",
        "  def rect(self): # 직사각형 넓이를 구하는 메서드\n",
        "    width, vertical = map(int, input('가로, 세로를 입력하세요. 예시 : 가로,세로\\n >>>').split(',')) # 가로, 세로를 입력받는 코드\n",
        "    area = width * vertical # 넓이를 구하는 부분\n",
        "    result = '직사각형의 넓이는 : ' + str(area)\n",
        "    return result"
      ],
      "metadata": {
        "id": "hyA_fWcEH8vY"
      },
      "execution_count": 84,
      "outputs": []
    },
    {
      "cell_type": "code",
      "source": [
        "a = Square()"
      ],
      "metadata": {
        "colab": {
          "base_uri": "https://localhost:8080/"
        },
        "id": "tQAk4atdIPFL",
        "outputId": "80d9464a-2941-41a0-d3d7-758276f57dc9"
      },
      "execution_count": 85,
      "outputs": [
        {
          "output_type": "stream",
          "name": "stdout",
          "text": [
            "넓이를 구하고 싶은 사각형의 숫자를 써주세요.\n",
            " 1.직사각형 2.평행사변형 3. 사다리꼴 \n",
            " >>>1\n",
            "직사각형 함수는 rect()입니다.\n"
          ]
        }
      ]
    },
    {
      "cell_type": "code",
      "source": [
        "a.rect()"
      ],
      "metadata": {
        "colab": {
          "base_uri": "https://localhost:8080/",
          "height": 72
        },
        "id": "k0_GGkxyIWg1",
        "outputId": "9b3a478f-d4ff-4f54-bd99-3f3d738f65bd"
      },
      "execution_count": 86,
      "outputs": [
        {
          "name": "stdout",
          "output_type": "stream",
          "text": [
            "가로, 세로를 입력하세요. 예시 : 가로,세로\n",
            " >>>2,4\n"
          ]
        },
        {
          "output_type": "execute_result",
          "data": {
            "text/plain": [
              "'직사각형의 넓이는 : 8'"
            ],
            "application/vnd.google.colaboratory.intrinsic+json": {
              "type": "string"
            }
          },
          "metadata": {},
          "execution_count": 86
        }
      ]
    },
    {
      "cell_type": "markdown",
      "source": [
        "## **평행사변형과 사다리꼴 메서드 만들기**"
      ],
      "metadata": {
        "id": "ITGTdhwIIjZ9"
      }
    },
    {
      "cell_type": "code",
      "source": [
        "# 평행사변형 메서드\n",
        "def par(self):\n",
        "  under, high = map(int, input('밑변, 높이를 입력하세요. 예시 : 밑변,높이\\n >>>').split(',')) # 입력받은 값을 split으로 쪼갠 후 정수형으로 바꿔준다.\n",
        "  area = under * high\n",
        "  result = '평행사변형의 넓이는 : ' + str(area)\n",
        "  return result\n",
        "\n",
        "# 사다리꼴 메서드\n",
        "def trape(self):\n",
        "  under, parallel, high = map(int, input('밑변, 윗변, 높이를 입력하세요. 예시 : 밑변,윗변,높이\\n >>>').split(',')) # 입력받은 값을 split으로 쪼갠 후 정수형으로 바꿔준다.\n",
        "  area = (under + parallel) * high * 1/2\n",
        "  result = '사다리꼴의 넓이는 : ' + str(area)\n",
        "  return result"
      ],
      "metadata": {
        "id": "_sMFVNZvIi6q"
      },
      "execution_count": 87,
      "outputs": []
    },
    {
      "cell_type": "markdown",
      "source": [
        "## **Squre 클래스의 함수들을 실행해보자.**"
      ],
      "metadata": {
        "id": "kEbJzb5sMDma"
      }
    },
    {
      "cell_type": "code",
      "source": [
        "class Square:\n",
        "  def __init__(self):\n",
        "    self.square = int(input('넓이를 구하고 싶은 사각형의 숫자를 써주세요.\\n 1.직사각형 2.평행사변형 3. 사다리꼴 \\n >>>')) # 입력값은 int로 묶는다.\n",
        "\n",
        "    if self.square == 1:\n",
        "      print('직사각형 함수는 rect()입니다.') # Square 클래스에 rect() 메서드를 추가\n",
        "\n",
        "    elif self.square == 2:\n",
        "      print('평행사변형 함수는 par()입니다.') # Square 클래스에 par() 메서드를 추가\n",
        "\n",
        "    elif self.square == 3:\n",
        "      print('사다리꼴 함수는 trape()입니다.') # Square 클래스에 trape() 메서드를 추가\n",
        "\n",
        "    else:\n",
        "      print('1, 2, 3 중에서 다시 입력해주세요.')\n",
        "\n",
        "  # 직사각형 넓이를 구하는 메서드\n",
        "  def rect(self):\n",
        "    width, vertical = map(int, input('가로, 세로를 입력하세요. 예시 : 가로,세로\\n >>>').split(',')) # 가로, 세로를 입력받는 코드\n",
        "    area = width * vertical # 넓이를 구하는 부분\n",
        "    result = '직사각형의 넓이는 : ' + str(area)\n",
        "    return result\n",
        "\n",
        "  # 평행사변형 메서드\n",
        "  def par(self):\n",
        "    under, high = map(int, input('밑변, 높이를 입력하세요. 예시 : 밑변,높이\\n >>>').split(',')) # 밑변, 높이를 입력받는 코드\n",
        "    area = under * high # 넓이를 구하는 부분\n",
        "    result = '평행사변형의 넓이는 : ' + str(area)\n",
        "    return result\n",
        "\n",
        "  # 사다리꼴 메서드\n",
        "  def trape(self):\n",
        "    under, parallel, high = map(int, input('밑변, 윗변, 높이를 입력하세요. 예시 : 밑변,윗변,높이\\n >>>').split(',')) # 밑변, 윗변, 높이를 입력받는 코드\n",
        "    area = (under + parallel) * high * 1/2 # 넓이를 구하는 부분\n",
        "    result = '사다리꼴의 넓이는 : ' + str(area)\n",
        "    return result"
      ],
      "metadata": {
        "id": "yxbwhfhkJ6jQ"
      },
      "execution_count": 99,
      "outputs": []
    },
    {
      "cell_type": "code",
      "source": [
        "a = Square()"
      ],
      "metadata": {
        "colab": {
          "base_uri": "https://localhost:8080/"
        },
        "id": "Ta1GaJ7DKX7K",
        "outputId": "e0610d7b-a4db-45cb-f213-7bb0cce2d81d"
      },
      "execution_count": 89,
      "outputs": [
        {
          "output_type": "stream",
          "name": "stdout",
          "text": [
            "넓이를 구하고 싶은 사각형의 숫자를 써주세요.\n",
            " 1.직사각형 2.평행사변형 3. 사다리꼴 \n",
            " >>>1\n",
            "직사각형 함수는 rect()입니다.\n"
          ]
        }
      ]
    },
    {
      "cell_type": "code",
      "source": [
        "a = Square()"
      ],
      "metadata": {
        "colab": {
          "base_uri": "https://localhost:8080/"
        },
        "id": "5L1R6qc8Oa_V",
        "outputId": "c22262ec-35b0-4cb3-a575-b2bbe7362bd4"
      },
      "execution_count": 101,
      "outputs": [
        {
          "output_type": "stream",
          "name": "stdout",
          "text": [
            "넓이를 구하고 싶은 사각형의 숫자를 써주세요.\n",
            " 1.직사각형 2.평행사변형 3. 사다리꼴 \n",
            " >>>2\n",
            "평행사변형 함수는 par()입니다.\n"
          ]
        }
      ]
    },
    {
      "cell_type": "code",
      "source": [
        "a = Square()"
      ],
      "metadata": {
        "colab": {
          "base_uri": "https://localhost:8080/"
        },
        "id": "Y03CochnOfwe",
        "outputId": "4c7e630f-8b6c-405a-983e-2b3fc238d69b"
      },
      "execution_count": 102,
      "outputs": [
        {
          "output_type": "stream",
          "name": "stdout",
          "text": [
            "넓이를 구하고 싶은 사각형의 숫자를 써주세요.\n",
            " 1.직사각형 2.평행사변형 3. 사다리꼴 \n",
            " >>>3\n",
            "사다리꼴 함수는 trape()입니다.\n"
          ]
        }
      ]
    },
    {
      "cell_type": "code",
      "source": [
        "a.rect()"
      ],
      "metadata": {
        "colab": {
          "base_uri": "https://localhost:8080/",
          "height": 72
        },
        "id": "PDZy2dQIKb9o",
        "outputId": "27ed5f48-4a62-47de-acca-aa4868a6b5bc"
      },
      "execution_count": 91,
      "outputs": [
        {
          "name": "stdout",
          "output_type": "stream",
          "text": [
            "가로, 세로를 입력하세요. 예시 : 가로,세로\n",
            " >>>2,4\n"
          ]
        },
        {
          "output_type": "execute_result",
          "data": {
            "text/plain": [
              "'직사각형의 넓이는 : 8'"
            ],
            "application/vnd.google.colaboratory.intrinsic+json": {
              "type": "string"
            }
          },
          "metadata": {},
          "execution_count": 91
        }
      ]
    },
    {
      "cell_type": "code",
      "source": [
        "a.par()"
      ],
      "metadata": {
        "colab": {
          "base_uri": "https://localhost:8080/",
          "height": 72
        },
        "id": "rqWuM4ZlKh6P",
        "outputId": "f1d3c773-fc82-47e5-9e33-7ccd98773073"
      },
      "execution_count": 92,
      "outputs": [
        {
          "name": "stdout",
          "output_type": "stream",
          "text": [
            "밑변, 높이를 입력하세요. 예시 : 밑변,높이\n",
            " >>>5,7\n"
          ]
        },
        {
          "output_type": "execute_result",
          "data": {
            "text/plain": [
              "'평행사변형의 넓이는 : 35'"
            ],
            "application/vnd.google.colaboratory.intrinsic+json": {
              "type": "string"
            }
          },
          "metadata": {},
          "execution_count": 92
        }
      ]
    },
    {
      "cell_type": "code",
      "source": [
        "a.trape()"
      ],
      "metadata": {
        "colab": {
          "base_uri": "https://localhost:8080/",
          "height": 72
        },
        "id": "mieleNpkKqmX",
        "outputId": "ec3e8075-1fa2-46e0-accb-774300da44bb"
      },
      "execution_count": 100,
      "outputs": [
        {
          "name": "stdout",
          "output_type": "stream",
          "text": [
            "밑변, 윗변, 높이를 입력하세요. 예시 : 밑변,윗변,높이\n",
            " >>>3,5,5\n"
          ]
        },
        {
          "output_type": "execute_result",
          "data": {
            "text/plain": [
              "'사다리꼴의 넓이는 : 20.0'"
            ],
            "application/vnd.google.colaboratory.intrinsic+json": {
              "type": "string"
            }
          },
          "metadata": {},
          "execution_count": 100
        }
      ]
    },
    {
      "cell_type": "markdown",
      "source": [
        "# ***Kiosk 만들기***"
      ],
      "metadata": {
        "id": "07GcFTBfBwys"
      }
    },
    {
      "cell_type": "markdown",
      "source": [
        "## **Kiosk 클래스 생성하기**\n",
        "\n",
        "Kiosk 클래스를 만들면 호출되는 생성자 안에 메뉴와 가격을 속서으로 추가한 후, 클래스가 잘 만들어졌는지 속성을 출력하여 확인"
      ],
      "metadata": {
        "id": "Mqda9pHLNruI"
      }
    },
    {
      "cell_type": "code",
      "execution_count": 21,
      "metadata": {
        "id": "Ewa1DXdI-n1G"
      },
      "outputs": [],
      "source": [
        "class Kiosk:\n",
        "  def __init__(self):\n",
        "    self.menu = ['americano', 'latte', 'mocha', 'yuza_tea', 'green_tea', 'choco_latte']\n",
        "    self.price = [2000, 3000, 3000, 2500, 2500, 3000]"
      ]
    },
    {
      "cell_type": "code",
      "source": [
        "a = Kiosk() # 객체 생성\n",
        "a.menu # 객체 속성을 출력"
      ],
      "metadata": {
        "colab": {
          "base_uri": "https://localhost:8080/"
        },
        "id": "SATxx601ORmt",
        "outputId": "21c26373-2a83-4697-865c-2e69617e9fed"
      },
      "execution_count": 22,
      "outputs": [
        {
          "output_type": "execute_result",
          "data": {
            "text/plain": [
              "['americano', 'latte', 'mocha', 'yuza_tea', 'green_tea', 'choco_latte']"
            ]
          },
          "metadata": {},
          "execution_count": 22
        }
      ]
    },
    {
      "cell_type": "markdown",
      "source": [
        "## **메뉴판 출력하기**\n",
        "\n",
        "self.menu에 있는 갯수만큼 메뉴를 출력하는 메서드를 정의한 후, 객체 생성하여 메뉴를 출력"
      ],
      "metadata": {
        "id": "K7BVnnOLOjY3"
      }
    },
    {
      "cell_type": "code",
      "source": [
        "def menu_print(self):\n",
        "  for i in range(len(self.menu)): # 메뉴의 개수만큼 반복\n",
        "    print(i+1, self.menu[i], ' : ', self.price[i])  # 메뉴와 가격을 출력"
      ],
      "metadata": {
        "id": "xpcvet01OiUl"
      },
      "execution_count": 23,
      "outputs": []
    },
    {
      "cell_type": "code",
      "source": [
        "class Kiosk:\n",
        "  def __init__(self):\n",
        "    self.menu = ['americano', 'latte', 'mocha', 'yuza_tea', 'green_tea', 'choco_latte']\n",
        "    self.price = [2000, 3000, 3000, 2500, 2500, 3000]\n",
        "\n",
        "  def menu_print(self):\n",
        "    for i in range(len(self.menu)): # 메뉴의 개수만큼 반복\n",
        "      print(i+1, self.menu[i], ' : ', self.price[i], '원')  # 메뉴와 가격을 출력\n"
      ],
      "metadata": {
        "id": "sZQgXsP_PTe3"
      },
      "execution_count": 24,
      "outputs": []
    },
    {
      "cell_type": "markdown",
      "source": [
        "## **menu_print() 함수가 잘 실행되는지 보자**"
      ],
      "metadata": {
        "id": "GmtOBp8lNksO"
      }
    },
    {
      "cell_type": "code",
      "source": [
        "a = Kiosk()\n",
        "a.menu_print()"
      ],
      "metadata": {
        "colab": {
          "base_uri": "https://localhost:8080/"
        },
        "id": "Q2gqHF3cQWkM",
        "outputId": "f9625db0-0b1a-416f-9be5-5d8185c1a8c3"
      },
      "execution_count": 25,
      "outputs": [
        {
          "output_type": "stream",
          "name": "stdout",
          "text": [
            "1 americano  :  2000 원\n",
            "2 latte  :  3000 원\n",
            "3 mocha  :  3000 원\n",
            "4 yuza_tea  :  2500 원\n",
            "5 green_tea  :  2500 원\n",
            "6 choco_latte  :  3000 원\n"
          ]
        }
      ]
    },
    {
      "cell_type": "markdown",
      "source": [
        "## **주문 메서드**\n",
        "\n",
        "주문할 음료의 번호를 입력하면 주문 확인을 위해서 음료 이름과 가격을 출력"
      ],
      "metadata": {
        "id": "8UfCrozbSCkB"
      }
    },
    {
      "cell_type": "code",
      "source": [
        "def menu_select(self):\n",
        "  n = int(input('음료의 번호를 입력하세요 : ')) # 음료 번호 입력\n",
        "  self.price_sum = self.price[n-1] # 선택 음료의 가격\n",
        "  print(self.menu[n-1], ' : ', self.price[n-1], '원') # 음료의 이름과 가격을 출력"
      ],
      "metadata": {
        "id": "jyaBwlY1SMFF"
      },
      "execution_count": null,
      "outputs": []
    },
    {
      "cell_type": "markdown",
      "source": [
        "주문 메서드에 음료의 번호를 잘못 입력할 경우를 생각하여 예외 처리 추가"
      ],
      "metadata": {
        "id": "xl6jtrh3TB-M"
      }
    },
    {
      "cell_type": "code",
      "source": [
        "def.menue_select(self):\n",
        "  n = 0\n",
        "  while n < 1 or len(menu) < n:\n",
        "    n = int(input('음료 번호를 입력하세요 : ')) # 음료 번호 입력\n",
        "\n",
        "    # 메뉴판에 있는 음료 번호일 때\n",
        "    if 1 <= n & n <= len(mene):\n",
        "      self.price_sum = self.price[n-1] # 선택 음료의 가격\n",
        "      print(self.menu[n-1], ' : ', self.price_sum, '원')\n",
        "\n",
        "    # 메뉴판에 없는 번호일 때\n",
        "    else:\n",
        "      print('없는 메뉴입니다. 다시 주문해 주세요.')"
      ],
      "metadata": {
        "id": "dbYVi5gkTI19"
      },
      "execution_count": null,
      "outputs": []
    },
    {
      "cell_type": "code",
      "source": [
        "class Kiosk:\n",
        "  def __init__(self):\n",
        "    self.menu = ['americano', 'latte', 'mocha', 'yuza_tea', 'green_tea', 'choco_latte']\n",
        "    self.price = [2000, 3000, 3000, 2500, 2500, 3000]\n",
        "\n",
        "  def menu_print(self):\n",
        "    for i in range(len(self.menu)): # 메뉴의 개수만큼 반복\n",
        "      print(i+1, self.menu[i], ' : ', self.price[i], '원')  # 메뉴와 가격을 출력\n",
        "\n",
        "  def menu_select(self):\n",
        "    n = 0\n",
        "    while n < 1 or len(self.menu) < n:\n",
        "      n = int(input('음료 번호를 입력하세요 : ')) # 음료 번호 입력\n",
        "\n",
        "    # 메뉴판에 있는 음료 번호일 때\n",
        "      if 1 <= n & n <= len(self.menu):\n",
        "        self.price_sum = self.price[n-1] # 선택 음료의 가격\n",
        "        print(self.menu[n-1], ' : ', self.price_sum, '원')\n",
        "\n",
        "    # 메뉴판에 없는 번호일 때\n",
        "      else:\n",
        "        print('없는 메뉴입니다. 다시 주문해 주세요.')\n",
        "\n",
        "      # 음료의 온도 물어보기\n",
        "      t = 0 # 기본값 넣어주기\n",
        "      while t != 1 and t != 2: # 1이나 2를 입력할 때까지 물어보기\n",
        "        t = int(input('HOT 음료는 1을, ICE 음료는 2를 입력하세요 : '))\n",
        "\n",
        "        if t == 1:\n",
        "          self.temp = \"HOT\"\n",
        "        elif t == 2:\n",
        "          self.temp = \"ICE\"\n",
        "        else:\n",
        "          print('1과 2 중 하나를 입력하세요. \\n')\n",
        "\n",
        "      print('주문 음료', self.temp, self.menu[n-1], ' : ', self.price_sum, '원') # 온도 속성을 추가한 주문 결과\n"
      ],
      "metadata": {
        "id": "8EZ_Z8s9UUV1"
      },
      "execution_count": 34,
      "outputs": []
    },
    {
      "cell_type": "markdown",
      "source": [
        "## **출력이 잘 되는지 확인**"
      ],
      "metadata": {
        "id": "mAhW6RsH8kNw"
      }
    },
    {
      "cell_type": "code",
      "source": [
        "a = Kiosk()\n",
        "a.menu_print()\n",
        "a.menu_select()"
      ],
      "metadata": {
        "colab": {
          "base_uri": "https://localhost:8080/"
        },
        "id": "6LmVzSwhXKS8",
        "outputId": "115a16bf-4f8b-406f-e04b-88ccec6f1f1a"
      },
      "execution_count": 35,
      "outputs": [
        {
          "output_type": "stream",
          "name": "stdout",
          "text": [
            "1 americano  :  2000 원\n",
            "2 latte  :  3000 원\n",
            "3 mocha  :  3000 원\n",
            "4 yuza_tea  :  2500 원\n",
            "5 green_tea  :  2500 원\n",
            "6 choco_latte  :  3000 원\n",
            "음료 번호를 입력하세요 : 1\n",
            "americano  :  2000 원\n",
            "HOT 음료는 1을, ICE 음료는 2를 입력하세요 : 2\n",
            "주문 음료 ICE americano  :  2000 원\n"
          ]
        }
      ]
    },
    {
      "cell_type": "markdown",
      "source": [
        "## **추가 주문**\n",
        "\n",
        "추가 주문을 대비하여, 손님에게 추가 주문을 한 것인지 물어보고, 추가 주문을 하지 않고 주문 금액을 지불하려면 0을 눌러서 주문이 완료됐다고 알려줍시다.\n",
        "\n",
        "주문표에 모든 메뉴를 출력해야 하므로 주문 리스트와 가격 리스트도 추가합니다."
      ],
      "metadata": {
        "id": "KNalvBUvXSr-"
      }
    },
    {
      "cell_type": "code",
      "source": [
        "class Kiosk:\n",
        "  def __init__(self):\n",
        "    self.menu = ['americano', 'latte', 'mocha', 'yuza_tea', 'green_tea', 'choco_latte']\n",
        "    self.price = [2000, 3000, 3000, 2500, 2500, 3000]\n",
        "\n",
        "  def menu_print(self):\n",
        "    for i in range(len(self.menu)): # 메뉴의 개수만큼 반복\n",
        "      print(i+1, self.menu[i], ' : ', self.price[i], '원')  # 메뉴와 가격을 출력\n",
        "\n",
        "  def menu_select(self):\n",
        "    self.order_menu = []\n",
        "    self.order_price = []\n",
        "\n",
        "    n = 0\n",
        "    while n < 1 or len(self.menu) < n:\n",
        "      n = int(input('음료 번호를 입력하세요 : ')) # 음료 번호 입력\n",
        "\n",
        "    # 메뉴판에 있는 음료 번호일 때\n",
        "      if 1 <= n & n <= len(self.menu):\n",
        "        self.order_price.append(self.price[n-1]) # 가격 리스트에 추가\n",
        "        self.price_sum = self.price[n-1] # 합계 금액\n",
        "        print(self.menu[n-1], ' : ', self.price_sum, '원')\n",
        "\n",
        "    # 메뉴판에 없는 번호일 때\n",
        "      else:\n",
        "        print('없는 메뉴입니다. 다시 주문해 주세요.')\n",
        "\n",
        "    # 음료의 온도 물어보기\n",
        "    t = 0 # 기본값 넣어주기\n",
        "    while t != 1 and t != 2: # 1이나 2를 입력할 때까지 물어보기\n",
        "      t = int(input('HOT 음료는 1을, ICE 음료는 2를 입력하세요 : '))\n",
        "\n",
        "      if t == 1:\n",
        "        self.temp = \"HOT\"\n",
        "      elif t == 2:\n",
        "        self.temp = \"ICE\"\n",
        "      else:\n",
        "          print('1과 2 중 하나를 입력하세요. \\n')\n",
        "\n",
        "      self.order_menu.append(self.temp + ' ' + self.menu[n-1]) # 주문 리스트에 추가\n",
        "      print('주문 음료', self.temp, self.menu[n-1], ' : ', self.price_sum, '원') # 온도 속성을 추가한 주문 결과\n",
        "\n",
        "      # 추가 주문 또는 지불\n",
        "      while n != 0: # 지불을 선택하기 전까지 반복\n",
        "        print() # 줄 바꿈\n",
        "        n = int(input('추가 주문은 음료 번호를, 지불은 0을 누르세요 : ')) #추가 주문 또는 지불\n",
        "\n",
        "        if n > 0 and n < len(self.menu) + 1:\n",
        "          t = 0\n",
        "          while t != 1 and t != 2:\n",
        "            t = int(input('HOT 음료는 1을, ICE음료는 2를 입력하세요 : '))\n",
        "            if t == 1:\n",
        "              self.temp = 'HOT'\n",
        "            elif t == 2:\n",
        "              self.temp = 'ICE'\n",
        "            else:\n",
        "              print('1과 2 중 하나를 입력하세요.\\n')\n",
        "\n",
        "          self.price_sum += self.price[n-1]\n",
        "          self.order_menu.append(self.temp + ' ' + self.menu[n-1])\n",
        "          self.order_price.append(self.price[n-1])\n",
        "          print('추가 주문 음료', self.temp, self.menu[n-1], ':', self.price[n-1], '원\\n', '합계 : ', self.price_sum, '원')\n",
        "        else:\n",
        "          if n == 0 : # 지불을 입력하면\n",
        "            print('주문이 완료되었습니다.')\n",
        "            print(self.order_menu, self.order_price) # 확인을 위한 리스트를 출력\n",
        "\n",
        "          else: # 없는 번호를 입력할 때\n",
        "            print('없는 메뉴입니다. 다시 주문해 주세요.')"
      ],
      "metadata": {
        "id": "a0PVPfFLXMpR"
      },
      "execution_count": 68,
      "outputs": []
    },
    {
      "cell_type": "markdown",
      "source": [
        "## **출력이 잘 되는지 확인**"
      ],
      "metadata": {
        "id": "xZPGU7pJ8yao"
      }
    },
    {
      "cell_type": "code",
      "source": [
        "a = Kiosk()\n",
        "a.menu_print()\n",
        "a.menu_select()"
      ],
      "metadata": {
        "colab": {
          "base_uri": "https://localhost:8080/"
        },
        "id": "44gRAYaJ3A_E",
        "outputId": "3b3f3853-26d5-450e-8bef-fa699018f597"
      },
      "execution_count": 69,
      "outputs": [
        {
          "output_type": "stream",
          "name": "stdout",
          "text": [
            "1 americano  :  2000 원\n",
            "2 latte  :  3000 원\n",
            "3 mocha  :  3000 원\n",
            "4 yuza_tea  :  2500 원\n",
            "5 green_tea  :  2500 원\n",
            "6 choco_latte  :  3000 원\n",
            "음료 번호를 입력하세요 : 2\n",
            "latte  :  3000 원\n",
            "HOT 음료는 1을, ICE 음료는 2를 입력하세요 : 1\n",
            "주문 음료 HOT latte  :  3000 원\n",
            "\n",
            "추가 주문은 음료 번호를, 지불은 0을 누르세요 : 2\n",
            "HOT 음료는 1을, ICE음료는 2를 입력하세요 : 1\n",
            "추가 주문 음료 HOT latte : 3000 원\n",
            " 합계 :  6000 원\n",
            "\n",
            "추가 주문은 음료 번호를, 지불은 0을 누르세요 : 0\n",
            "주문이 완료되었습니다.\n",
            "['HOT latte', 'HOT latte'] [3000, 3000]\n"
          ]
        }
      ]
    },
    {
      "cell_type": "markdown",
      "source": [
        "## **지불**\n",
        "\n",
        "주문 완료 후 지불하기 위한 지불 메서드를 생성한다."
      ],
      "metadata": {
        "id": "lLy6r-oC3mSb"
      }
    },
    {
      "cell_type": "code",
      "source": [
        "def pay(self):\n",
        "\n",
        "  method = 3\n",
        "  while method != 1 and method != 2: # 1과 2 외의 숫자가 입력될 시 반복\n",
        "    method = int(input(f'지불할 금액은 {self.price_sum}입니다. \\n현금은 1, 카드는 2를 입력해주세요 : \\n>>>'))\n",
        "    if method == 1: # 1을 입력할 경우\n",
        "      print('직원을 호출하겠습니다.')\n",
        "    elif method ==2: # 2를 입력할 경우\n",
        "      print('IC칩 방향에 맞게 카드를 꽂아주세요.')\n",
        "    else:\n",
        "      print('다시 결제를 시도해 주세요.')"
      ],
      "metadata": {
        "id": "pQ5LyZYE3iJv"
      },
      "execution_count": 65,
      "outputs": []
    },
    {
      "cell_type": "code",
      "source": [
        "class Kiosk:\n",
        "  def __init__(self):\n",
        "    self.menu = ['americano', 'latte', 'mocha', 'yuza_tea', 'green_tea', 'choco_latte']\n",
        "    self.price = [2000, 3000, 3000, 2500, 2500, 3000]\n",
        "\n",
        "  def menu_print(self):\n",
        "    for i in range(len(self.menu)): # 메뉴의 개수만큼 반복\n",
        "      print(i+1, self.menu[i], ' : ', self.price[i], '원')  # 메뉴와 가격을 출력\n",
        "\n",
        "  def menu_select(self):\n",
        "    self.order_menu = []\n",
        "    self.order_price = []\n",
        "\n",
        "    n = 0\n",
        "    while n < 1 or len(self.menu) < n:\n",
        "      n = int(input('음료 번호를 입력하세요 : ')) # 음료 번호 입력\n",
        "\n",
        "    # 메뉴판에 있는 음료 번호일 때\n",
        "      if 1 <= n & n <= len(self.menu):\n",
        "        self.order_price.append(self.price[n-1]) # 가격 리스트에 추가\n",
        "        self.price_sum = self.price[n-1] # 합계 금액\n",
        "        print(self.menu[n-1], ' : ', self.price_sum, '원')\n",
        "\n",
        "    # 메뉴판에 없는 번호일 때\n",
        "      else:\n",
        "        print('없는 메뉴입니다. 다시 주문해 주세요.')\n",
        "\n",
        "    # 음료의 온도 물어보기\n",
        "    t = 0 # 기본값 넣어주기\n",
        "    while t != 1 and t != 2: # 1이나 2를 입력할 때까지 물어보기\n",
        "      t = int(input('HOT 음료는 1을, ICE 음료는 2를 입력하세요 : '))\n",
        "\n",
        "      if t == 1:\n",
        "        self.temp = \"HOT\"\n",
        "      elif t == 2:\n",
        "        self.temp = \"ICE\"\n",
        "      else:\n",
        "          print('1과 2 중 하나를 입력하세요. \\n')\n",
        "\n",
        "      self.order_menu.append(self.temp + ' ' + self.menu[n-1]) # 주문 리스트에 추가\n",
        "      print('주문 음료', self.temp, self.menu[n-1], ' : ', self.price_sum, '원') # 온도 속성을 추가한 주문 결과\n",
        "\n",
        "      # 추가 주문 또는 지불\n",
        "      while n != 0: # 지불을 선택하기 전까지 반복\n",
        "        print() # 줄 바꿈\n",
        "        n = int(input('추가 주문은 음료 번호를, 지불은 0을 누르세요 : ')) #추가 주문 또는 지불\n",
        "\n",
        "        if n > 0 and n < len(self.menu) + 1:\n",
        "          t = 0\n",
        "          while t != 1 and t != 2:\n",
        "            t = int(input('HOT 음료는 1을, ICE음료는 2를 입력하세요 : '))\n",
        "            if t == 1:\n",
        "              self.temp = 'HOT'\n",
        "            elif t == 2:\n",
        "              self.temp = 'ICE'\n",
        "            else:\n",
        "              print('1과 2 중 하나를 입력하세요.\\n')\n",
        "\n",
        "          self.price_sum += self.price[n-1]\n",
        "          self.order_menu.append(self.temp + ' ' + self.menu[n-1])\n",
        "          self.order_price.append(self.price[n-1])\n",
        "          print('추가 주문 음료', self.temp, self.menu[n-1], ':', self.price[n-1], '원\\n', '합계 : ', self.price_sum, '원')\n",
        "        else:\n",
        "          if n == 0 : # 지불을 입력하면\n",
        "            print('주문이 완료되었습니다.')\n",
        "            print(self.order_menu, self.order_price) # 확인을 위한 리스트를 출력\n",
        "\n",
        "          else: # 없는 번호를 입력할 때\n",
        "            print('없는 메뉴입니다. 다시 주문해 주세요.')\n",
        "\n",
        "  def pay(self):\n",
        "    method = 3\n",
        "    while method != 1 and method != 2: # 1과 2 외의 숫자가 입력될 시 반복\n",
        "      method = int(input(f'지불할 금액은 {self.price_sum}입니다. \\n현금은 1, 카드는 2를 입력해주세요 : \\n>>>'))\n",
        "      if method == 1: # 1을 입력할 경우\n",
        "        print('직원을 호출하겠습니다.')\n",
        "      elif method ==2: # 2를 입력할 경우\n",
        "        print('IC칩 방향에 맞게 카드를 꽂아주세요.')\n",
        "      else:\n",
        "        print('다시 결제를 시도해 주세요.')\n"
      ],
      "metadata": {
        "id": "b96Prmpo5ZYf"
      },
      "execution_count": 71,
      "outputs": []
    },
    {
      "cell_type": "markdown",
      "source": [
        "## **출력이 잘 되는지 확인**"
      ],
      "metadata": {
        "id": "t-CIJwEy8_Xu"
      }
    },
    {
      "cell_type": "code",
      "source": [
        "a = Kiosk()\n",
        "a.menu_print()\n",
        "a.menu_select()\n",
        "a.pay()"
      ],
      "metadata": {
        "colab": {
          "base_uri": "https://localhost:8080/"
        },
        "id": "z-tLh00a5sEQ",
        "outputId": "63b2c79c-c68e-425b-bbdb-0f22a4cb192f"
      },
      "execution_count": 74,
      "outputs": [
        {
          "output_type": "stream",
          "name": "stdout",
          "text": [
            "1 americano  :  2000 원\n",
            "2 latte  :  3000 원\n",
            "3 mocha  :  3000 원\n",
            "4 yuza_tea  :  2500 원\n",
            "5 green_tea  :  2500 원\n",
            "6 choco_latte  :  3000 원\n",
            "음료 번호를 입력하세요 : 1\n",
            "americano  :  2000 원\n",
            "HOT 음료는 1을, ICE 음료는 2를 입력하세요 : 2\n",
            "주문 음료 ICE americano  :  2000 원\n",
            "\n",
            "추가 주문은 음료 번호를, 지불은 0을 누르세요 : 4\n",
            "HOT 음료는 1을, ICE음료는 2를 입력하세요 : 2\n",
            "추가 주문 음료 ICE yuza_tea : 2500 원\n",
            " 합계 :  4500 원\n",
            "\n",
            "추가 주문은 음료 번호를, 지불은 0을 누르세요 : 5\n",
            "HOT 음료는 1을, ICE음료는 2를 입력하세요 : 1\n",
            "추가 주문 음료 HOT green_tea : 2500 원\n",
            " 합계 :  7000 원\n",
            "\n",
            "추가 주문은 음료 번호를, 지불은 0을 누르세요 : 6\n",
            "HOT 음료는 1을, ICE음료는 2를 입력하세요 : 1\n",
            "추가 주문 음료 HOT choco_latte : 3000 원\n",
            " 합계 :  10000 원\n",
            "\n",
            "추가 주문은 음료 번호를, 지불은 0을 누르세요 : 0\n",
            "주문이 완료되었습니다.\n",
            "['ICE americano', 'ICE yuza_tea', 'HOT green_tea', 'HOT choco_latte'] [2000, 2500, 2500, 3000]\n",
            "지불할 금액은 10000입니다. \n",
            "현금은 1, 카드는 2를 입력해주세요 : \n",
            ">>>2\n",
            "IC칩 방향에 맞게 카드를 꽂아주세요.\n"
          ]
        }
      ]
    },
    {
      "cell_type": "markdown",
      "source": [
        "## **주문표**\n",
        "\n",
        "주문표에 주문한 전체 상품명과 각 금액과 총 주문 금액을 출력한다."
      ],
      "metadata": {
        "id": "Avx-7yHj6rl5"
      }
    },
    {
      "cell_type": "code",
      "source": [
        "def table(self):\n",
        "    order = ['HOT americano', 'ICE latte', 'ICE mocha', 'ICE choco_latte']\n",
        "    price = [2000, 3000, 3000, 3000]\n",
        "\n",
        "    print('⟝' + '-' * 30 + '⟞')\n",
        "    for i in range(5):\n",
        "        print('|' + ' ' * 31 + '|')\n",
        "\n",
        "    for i in range(len(self.order_menu)):\n",
        "        print(self.order_menu[i], ' : ' , self.order_price[i])\n",
        "    print('합계 금액 : ', self.price_sum)\n",
        "\n",
        "    for i in range(5):\n",
        "        print('|' + ' ' * 31+ '|')\n",
        "    print('⟝' + '-' * 30 + '⟞')"
      ],
      "metadata": {
        "id": "EsswpnOY6rRf"
      },
      "execution_count": null,
      "outputs": []
    },
    {
      "cell_type": "code",
      "source": [
        "class Kiosk:\n",
        "  def __init__(self):\n",
        "    self.menu = ['americano', 'latte', 'mocha', 'yuza_tea', 'green_tea', 'choco_latte']\n",
        "    self.price = [2000, 3000, 3000, 2500, 2500, 3000]\n",
        "\n",
        "  def menu_print(self):\n",
        "    for i in range(len(self.menu)): # 메뉴의 개수만큼 반복\n",
        "      print(i+1, self.menu[i], ' : ', self.price[i], '원')  # 메뉴와 가격을 출력\n",
        "\n",
        "  def menu_select(self):\n",
        "    self.order_menu = []\n",
        "    self.order_price = []\n",
        "\n",
        "    n = 0\n",
        "    while n < 1 or len(self.menu) < n:\n",
        "      n = int(input('음료 번호를 입력하세요 : ')) # 음료 번호 입력\n",
        "\n",
        "    # 메뉴판에 있는 음료 번호일 때\n",
        "      if 1 <= n & n <= len(self.menu):\n",
        "        self.order_price.append(self.price[n-1]) # 가격 리스트에 추가\n",
        "        self.price_sum = self.price[n-1] # 합계 금액\n",
        "        print(self.menu[n-1], ' : ', self.price_sum, '원')\n",
        "\n",
        "    # 메뉴판에 없는 번호일 때\n",
        "      else:\n",
        "        print('없는 메뉴입니다. 다시 주문해 주세요.')\n",
        "\n",
        "    # 음료의 온도 물어보기\n",
        "    t = 0 # 기본값 넣어주기\n",
        "    while t != 1 and t != 2: # 1이나 2를 입력할 때까지 물어보기\n",
        "      t = int(input('HOT 음료는 1을, ICE 음료는 2를 입력하세요 : '))\n",
        "\n",
        "      if t == 1:\n",
        "        self.temp = \"HOT\"\n",
        "      elif t == 2:\n",
        "        self.temp = \"ICE\"\n",
        "      else:\n",
        "          print('1과 2 중 하나를 입력하세요. \\n')\n",
        "\n",
        "      self.order_menu.append(self.temp + ' ' + self.menu[n-1]) # 주문 리스트에 추가\n",
        "      print('주문 음료', self.temp, self.menu[n-1], ' : ', self.price_sum, '원') # 온도 속성을 추가한 주문 결과\n",
        "\n",
        "      # 추가 주문 또는 지불\n",
        "      while n != 0: # 지불을 선택하기 전까지 반복\n",
        "        print() # 줄 바꿈\n",
        "        n = int(input('추가 주문은 음료 번호를, 지불은 0을 누르세요 : ')) #추가 주문 또는 지불\n",
        "\n",
        "        if n > 0 and n < len(self.menu) + 1:\n",
        "          t = 0\n",
        "          while t != 1 and t != 2:\n",
        "            t = int(input('HOT 음료는 1을, ICE음료는 2를 입력하세요 : '))\n",
        "            if t == 1:\n",
        "              self.temp = 'HOT'\n",
        "            elif t == 2:\n",
        "              self.temp = 'ICE'\n",
        "            else:\n",
        "              print('1과 2 중 하나를 입력하세요.\\n')\n",
        "\n",
        "          self.price_sum += self.price[n-1]\n",
        "          self.order_menu.append(self.temp + ' ' + self.menu[n-1])\n",
        "          self.order_price.append(self.price[n-1])\n",
        "          print('추가 주문 음료', self.temp, self.menu[n-1], ':', self.price[n-1], '원\\n', '합계 : ', self.price_sum, '원')\n",
        "        else:\n",
        "          if n == 0 : # 지불을 입력하면\n",
        "            print('주문이 완료되었습니다.')\n",
        "            print(self.order_menu, self.order_price) # 확인을 위한 리스트를 출력\n",
        "\n",
        "          else: # 없는 번호를 입력할 때\n",
        "            print('없는 메뉴입니다. 다시 주문해 주세요.')\n",
        "\n",
        "  def pay(self):\n",
        "    method = 3\n",
        "    while method != 1 and method != 2: # 1과 2 외의 숫자가 입력될 시 반복\n",
        "      method = int(input(f'지불할 금액은 {self.price_sum}입니다. \\n현금은 1, 카드는 2를 입력해주세요 : \\n>>>'))\n",
        "      if method == 1: # 1을 입력할 경우\n",
        "        print('직원을 호출하겠습니다.')\n",
        "      elif method ==2: # 2를 입력할 경우\n",
        "        print('IC칩 방향에 맞게 카드를 꽂아주세요.')\n",
        "      else:\n",
        "        print('다시 결제를 시도해 주세요.')\n",
        "\n",
        "  def table(self):\n",
        "    order = ['HOT americano', 'ICE latte', 'ICE mocha', 'ICE choco_latte']\n",
        "    price = [2000, 3000, 3000, 3000]\n",
        "\n",
        "    print('⟝' + '-' * 30 + '⟞')\n",
        "    for i in range(5):\n",
        "        print('|' + ' ' * 31 + '|')\n",
        "\n",
        "    for i in range(len(self.order_menu)):\n",
        "        print(self.order_menu[i], ' : ' , self.order_price[i]) # 주문한 메뉴들과 주문한 메뉴들의 가격을 표시\n",
        "    print('합계 금액 : ', self.price_sum) # 합계 금액을 표시하기 위해 총액 변수를 입력\n",
        "\n",
        "    for i in range(5):\n",
        "        print('|' + ' ' * 31+ '|')\n",
        "    print('⟝' + '-' * 30 + '⟞')\n"
      ],
      "metadata": {
        "id": "o-3hw9up7YTR"
      },
      "execution_count": 75,
      "outputs": []
    },
    {
      "cell_type": "markdown",
      "source": [
        "## **총 출력 결과물을 보기 위해 함수 호출**"
      ],
      "metadata": {
        "id": "8NCUDgDN9FPB"
      }
    },
    {
      "cell_type": "code",
      "source": [
        "a = Kiosk()\n",
        "a.menu_print()\n",
        "a.menu_select()\n",
        "a.pay()\n",
        "a.table()"
      ],
      "metadata": {
        "colab": {
          "base_uri": "https://localhost:8080/"
        },
        "id": "HwlmSD7Q7gKz",
        "outputId": "50964594-afae-4031-86e8-a9b9b2955d70"
      },
      "execution_count": 76,
      "outputs": [
        {
          "output_type": "stream",
          "name": "stdout",
          "text": [
            "1 americano  :  2000 원\n",
            "2 latte  :  3000 원\n",
            "3 mocha  :  3000 원\n",
            "4 yuza_tea  :  2500 원\n",
            "5 green_tea  :  2500 원\n",
            "6 choco_latte  :  3000 원\n",
            "음료 번호를 입력하세요 : 1\n",
            "americano  :  2000 원\n",
            "HOT 음료는 1을, ICE 음료는 2를 입력하세요 : 2\n",
            "주문 음료 ICE americano  :  2000 원\n",
            "\n",
            "추가 주문은 음료 번호를, 지불은 0을 누르세요 : 3\n",
            "HOT 음료는 1을, ICE음료는 2를 입력하세요 : 1\n",
            "추가 주문 음료 HOT mocha : 3000 원\n",
            " 합계 :  5000 원\n",
            "\n",
            "추가 주문은 음료 번호를, 지불은 0을 누르세요 : 4\n",
            "HOT 음료는 1을, ICE음료는 2를 입력하세요 : 2\n",
            "추가 주문 음료 ICE yuza_tea : 2500 원\n",
            " 합계 :  7500 원\n",
            "\n",
            "추가 주문은 음료 번호를, 지불은 0을 누르세요 : 0\n",
            "주문이 완료되었습니다.\n",
            "['ICE americano', 'HOT mocha', 'ICE yuza_tea'] [2000, 3000, 2500]\n",
            "지불할 금액은 7500입니다. \n",
            "현금은 1, 카드는 2를 입력해주세요 : \n",
            ">>>3\n",
            "다시 결제를 시도해 주세요.\n",
            "지불할 금액은 7500입니다. \n",
            "현금은 1, 카드는 2를 입력해주세요 : \n",
            ">>>2\n",
            "IC칩 방향에 맞게 카드를 꽂아주세요.\n",
            "⟝------------------------------⟞\n",
            "|                               |\n",
            "|                               |\n",
            "|                               |\n",
            "|                               |\n",
            "|                               |\n",
            "ICE americano  :  2000\n",
            "HOT mocha  :  3000\n",
            "ICE yuza_tea  :  2500\n",
            "합계 금액 :  7500\n",
            "|                               |\n",
            "|                               |\n",
            "|                               |\n",
            "|                               |\n",
            "|                               |\n",
            "⟝------------------------------⟞\n"
          ]
        }
      ]
    },
    {
      "cell_type": "markdown",
      "source": [
        "# **회고문**\n",
        ": 그래도 노드를 좀 잘 따라갔더니, 퀘스트 할 때 좀 더 수월하게 할 수 있었다. (쉽게 했다는 말은 아니다..) 그래도 아직 모르는 부분이 많아서 더 구글링해보고 많은 문제를 풀어봐야 할 것 같다.\n",
        "노드 앞 부분도 복습이 필수인 것 같다.\n",
        "\n",
        "# **Keep**\n",
        "\n",
        "*   오류나 문제를 끝까지 혼자서 해결하려고 한 점\n",
        "\n",
        "# **Try**\n",
        "\n",
        "\n",
        "*   노드를 보지 않고 가이드 없이 코딩해보기\n",
        "*   파이썬 용어를 공부하고, 주석 다는 연습을 하자\n",
        "\n",
        "\n",
        "# **Problem**\n",
        "\n",
        "* 아직 주석 다는 것과, 설명하는 것에 미숙하다.\n",
        "\n",
        "\n",
        "\n",
        "\n"
      ],
      "metadata": {
        "id": "IkJ4foguO0FC"
      }
    }
  ]
}